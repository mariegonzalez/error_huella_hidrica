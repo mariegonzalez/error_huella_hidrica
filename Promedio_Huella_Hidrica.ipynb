{
 "cells": [
  {
   "cell_type": "markdown",
   "metadata": {},
   "source": [
    "# Promedio de Huella Hídrica\n",
    "\n",
    "González Ramírez María del Carmen\n",
    "**GH: mariegonzalez**\n",
    "\n",
    "\n",
    "Orozco Pérez Clara Paula\n",
    "**GH: claraorozco**\n",
    "\n",
    "\n",
    "Rojano Ávila Cinthya Susana\n",
    "**GH: SusyRojano**\n",
    "\n",
    "___"
   ]
  },
  {
   "cell_type": "code",
   "execution_count": null,
   "metadata": {},
   "outputs": [],
   "source": [
    "import os as os"
   ]
  },
  {
   "cell_type": "code",
   "execution_count": null,
   "metadata": {},
   "outputs": [],
   "source": [
    "import statistics as stats"
   ]
  },
  {
   "cell_type": "code",
   "execution_count": null,
   "metadata": {},
   "outputs": [],
   "source": [
    "import matplotlib.pyplot as plt\n",
    "import numpy as np"
   ]
  },
  {
   "cell_type": "code",
   "execution_count": null,
   "metadata": {},
   "outputs": [],
   "source": [
    "def buscar_archivos(ruta_carpetas): #definimos la función\n",
    "    archivos_texto = [] #creamos una lista que se actualizará después\n",
    "    archivos = os.listdir(ruta_carpetas) #utilizando la paquetería ospara obtener la lista de los archivos que se encuentran en la ruta ingresada.\n",
    "    datos = [] #creamos una lista que se actualizará después\n",
    "    \n",
    "    for archivo in archivos: #en este ciclo se buscarán los archivos cuya terminación sea .txt\n",
    "        if archivo[-4:] == '.txt':\n",
    "            archivos_texto.append(archivo)\n",
    "            with open(archivo, 'r') as f: #se abre el archivo con el alias f en modo lectura\n",
    "                leer = f.read()\n",
    "                flotante = float(leer)\n",
    "                datos.append(flotante)\n",
    "                f.close() #cerramos el archivo\n",
    "                #print(leer)\n",
    "    #print(stats.mean(datos)) #imprimimos el promedio de los datos recuperados\n",
    "    \n",
    "    x = np.linspace(1, 11, 11) #el argumento X se toma de un conjunto de puntos linspace\n",
    "    y = datos #el argumento Y son los datos flotantes que leímos anteriormente\n",
    "    plt.plot(x, y, color = 'pink') #creamos una gráfica con los argumentos\n",
    "    plt.scatter(x, y, color = 'k')\n",
    "    plt.title('Datos recogidos')\n",
    "    plt.ylabel('Litros de agua', fontsize = 13, rotation = 90)\n",
    "    plt.xlabel('Estudiantes encuestados', fontsize = 13, rotation = 0)\n",
    "    plt.show()\n",
    "            \n",
    "    return"
   ]
  },
  {
   "cell_type": "code",
   "execution_count": null,
   "metadata": {},
   "outputs": [],
   "source": [
    "ruta_carpetas = os.getcwd()"
   ]
  },
  {
   "cell_type": "code",
   "execution_count": null,
   "metadata": {},
   "outputs": [],
   "source": [
    "buscar_archivos(ruta_carpetas)"
   ]
  }
 ],
 "metadata": {
  "kernelspec": {
   "display_name": "Python 3",
   "language": "python",
   "name": "python3"
  },
  "language_info": {
   "codemirror_mode": {
    "name": "ipython",
    "version": 3
   },
   "file_extension": ".py",
   "mimetype": "text/x-python",
   "name": "python",
   "nbconvert_exporter": "python",
   "pygments_lexer": "ipython3",
   "version": "3.8.3"
  }
 },
 "nbformat": 4,
 "nbformat_minor": 4
}
