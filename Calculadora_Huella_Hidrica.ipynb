{
 "cells": [
  {
   "cell_type": "markdown",
   "metadata": {},
   "source": [
    "# Calculadora de Huella Hídrica\n",
    "\n",
    "González Ramírez María del Carmen\n",
    "**GH: mariegonzalez**\n",
    "\n",
    "\n",
    "Orozco Pérez Clara Paula\n",
    "**GH: claraorozco**\n",
    "\n",
    "\n",
    "Rojano Ávila Cinthya Susana\n",
    "**GH: SusyRojano**\n",
    "\n",
    "___"
   ]
  },
  {
   "cell_type": "markdown",
   "metadata": {},
   "source": [
    "¡Hola! :) La siguiente función calculará tu huella hídrica por mes. Nuestro proyecto aún no está terminado por lo que tus respuestas contribuirán a mejorar nuestros resultados.\n",
    "\n",
    "Corre todas las celdas y contesta con sinceridad, tus respuestas ayudarán a que nuestro proyecto sea más acertado.\n",
    "\n",
    "La encuesta toma en cuenta el uso POR MES, por lo que en preguntas como *Minutas para bañarte* debes multiplicar los minutos que tardas en bañarte por el total de días que te bañas en un mes. También puedes escribir decimales, por ejemplo en *Pasta de dientes* puedes escribir *0.7*.\n",
    "\n",
    "La función creará dos archivos `.txt` que te pedimos mandes al correo **huellahidrica1002@gmail.com**\n",
    "\n",
    "Tus datos no serán compartidos ni mal empleados, confía en nosotras :D\n",
    "\n",
    "¡Gracias por tu participación! :)"
   ]
  },
  {
   "cell_type": "code",
   "execution_count": null,
   "metadata": {},
   "outputs": [],
   "source": [
    "import matplotlib.pyplot as plt\n",
    "import numpy as np"
   ]
  },
  {
   "cell_type": "code",
   "execution_count": null,
   "metadata": {},
   "outputs": [],
   "source": [
    "dic_HH = dict(Tazas_de_cafe = float('0.14'), Minutos_para_bañarte = float('20'), Vasos_de_jugo_o_refresco = float('0.3'),\n",
    "              Comidas = float('2260'), Litros_de_leche = float('1000'), Kilos_de_carne = float('16000'),\n",
    "              Pantalones_de_mezclilla = float('10000'), Pijamas = float('7000'), Playeras = float('2800'), Zapatos = float('8000'),\n",
    "              Botellas_de_jabon = float('132'), Rollos_de_papel = float('140'), Pasta_de_dientes = float('120'),\n",
    "              Ropa_interior = float('1200'), Utilizar_el_WC = float('6'), Vasos_de_agua = float('0.25'), Lavar_ropa = float('8'))"
   ]
  },
  {
   "cell_type": "code",
   "execution_count": null,
   "metadata": {},
   "outputs": [],
   "source": [
    "def huella_hidrica():\n",
    "    \n",
    "    nombre = input(\"Nombre completo:  \")\n",
    "    numero_de_cuenta = input(\"Número de cuenta:  \")\n",
    "    grupo = input(\"Grupo: \")\n",
    "    \n",
    "    print(\"\\nEspecifica a continuación la cantidad de los siguientes productos que haces uso POR MES para conocer tu huella hídrica.\\n**NOTA: por favor ingresa únicamente números flotantes, ej. 1.2 , 1.0 , 0.5. Todas las preguntas son obligatorias.**\\n\")\n",
    "\n",
    "    values = []\n",
    "    values += dic_HH.values()\n",
    "    data = []\n",
    "    results = []\n",
    "    \n",
    "    for keys in dic_HH.keys():\n",
    "        \n",
    "        poll = float(input(f'{keys}: '))\n",
    "        poll = data.append(poll)\n",
    "        \n",
    "    for i in range (0, len(values)):\n",
    "        aux = values[i] * data[i]\n",
    "        aux = results.append(aux)\n",
    "        \n",
    "    for i in range (0, len(results)):\n",
    "        month = sum(results)\n",
    "        flotante = float(month)\n",
    "        day = month/30\n",
    "    \n",
    "    if month >= 469010.14945454546:\n",
    "        print(f'\\nTu huella hídrica por mes es {month} y en promedio por día es {day}.\\n¡Precaución! tu huella hídrica está por emcima del promedio por día de un mexicano. Te recomendamos hacer un mejor uso de los productos.')\n",
    "    else:\n",
    "        print(f'\\nTu huella hídrica por mes es {month} y en promedio por día es {day}.\\nTu huella hídrica está por debajo del promedio por día de un mexicano :) te recomendamos seguir haciendo uso moderado del agua.')\n",
    "\n",
    "    lista_keys = []\n",
    "    for keys in dic_HH.keys():\n",
    "        lista_keys.append(keys)\n",
    "    \n",
    "    print(f'\\nHemos desplazado una lista con la cantidad exacta de los litros que consumes por cada producto, en donde te podrás dar cuenta con mucho más detalle en cuál es que debes de hacer una disminución en tu consumo.\\nLa huella hídrica de cada producto es:\\n')\n",
    "    for i in range (0, len(results)):\n",
    "        datos = f'{lista_keys[i]}: {str(results[i])} L'\n",
    "        print(datos)\n",
    "        \n",
    "    print('\\nEn el gráfico se puede observar en el eje de las Y los litros que hay dentro de tu huella hídrica, y en el eje de las X la cantidad de litros que gasta cada producto, mostrándote así cuál de los 17 productos es el que requiere de una cantidad superior o si están todos en un rango promedio. Por lo tanto, con este gráfico puedes ver cuál de los 17 productos debes de reducir tu consumo y de esta forma reducir así mismo tu huella hídrica.')\n",
    "    \n",
    "    x = lista_keys\n",
    "    y = results\n",
    "    \n",
    "    plt.bar(range(17), y, color = 'purple', edgecolor = 'k')\n",
    "    plt.title('Tu huella hídrica') \n",
    "    plt.xticks(range(17), x, rotation = 90)\n",
    "    plt.ylim(min(y), max(y)+10000)\n",
    "    plt.ylabel('Litros de agua', fontsize = 13, rotation = 90)\n",
    "    plt.grid() \n",
    "    plt.show()"
   ]
  },
  {
   "cell_type": "code",
   "execution_count": null,
   "metadata": {},
   "outputs": [],
   "source": [
    "huella_hidrica()"
   ]
  }
 ],
 "metadata": {
  "kernelspec": {
   "display_name": "Python 3",
   "language": "python",
   "name": "python3"
  },
  "language_info": {
   "codemirror_mode": {
    "name": "ipython",
    "version": 3
   },
   "file_extension": ".py",
   "mimetype": "text/x-python",
   "name": "python",
   "nbconvert_exporter": "python",
   "pygments_lexer": "ipython3",
   "version": "3.8.3"
  }
 },
 "nbformat": 4,
 "nbformat_minor": 4
}
